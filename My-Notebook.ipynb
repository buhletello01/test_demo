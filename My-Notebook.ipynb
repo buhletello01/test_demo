{
 "cells": [
  {
   "cell_type": "markdown",
   "id": "57ec3db9-af9b-499c-9261-09ed42c0f7f3",
   "metadata": {},
   "source": [
    "1+1"
   ]
  },
  {
   "cell_type": "code",
   "execution_count": null,
   "id": "bae31638-4b74-4786-8d8e-e4890d60a57d",
   "metadata": {},
   "outputs": [],
   "source": [
    "my title"
   ]
  },
  {
   "cell_type": "markdown",
   "id": "b257c74b-7795-4578-99cd-6c5f42671af4",
   "metadata": {},
   "source": [
    "3+2"
   ]
  },
  {
   "cell_type": "code",
   "execution_count": null,
   "id": "9cf49610-ce54-4cab-95ce-e4629e7ad860",
   "metadata": {},
   "outputs": [],
   "source": []
  },
  {
   "cell_type": "code",
   "execution_count": null,
   "id": "29bed13e-f1d3-487f-84b9-da7c344bf36b",
   "metadata": {},
   "outputs": [],
   "source": []
  }
 ],
 "metadata": {
  "kernelspec": {
   "display_name": "Python 3",
   "language": "python",
   "name": "python3"
  },
  "language_info": {
   "codemirror_mode": {
    "name": "ipython",
    "version": 3
   },
   "file_extension": ".py",
   "mimetype": "text/x-python",
   "name": "python",
   "nbconvert_exporter": "python",
   "pygments_lexer": "ipython3",
   "version": "3.7.8"
  }
 },
 "nbformat": 4,
 "nbformat_minor": 5
}
